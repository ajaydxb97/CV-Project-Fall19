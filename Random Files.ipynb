{
 "cells": [
  {
   "cell_type": "code",
   "execution_count": 5,
   "metadata": {},
   "outputs": [],
   "source": [
    "import os\n",
    "import random\n",
    "import shutil\n",
    "import math\n",
    "\n",
    "src ='S:/CS549/data/training_image_new/L1_3-both/'\n",
    "\n",
    "dst ='S:/CS549/data/test_image_new/L1_3-both_test/'\n",
    "files = os.listdir(src)\n",
    "num = math.floor(len(files)/4)\n",
    "randomset = random.sample(range(len(files)), num)\n",
    "i = 0\n",
    "for i in randomset:\n",
    "    shutil.move(src+files[i], dst)\n",
    "    "
   ]
  },
  {
   "cell_type": "code",
   "execution_count": 6,
   "metadata": {},
   "outputs": [
    {
     "name": "stdout",
     "output_type": "stream",
     "text": [
      "735\n"
     ]
    }
   ],
   "source": [
    "import os\n",
    "import random\n",
    "import shutil\n",
    "import math\n",
    "\n",
    "src ='S:/CS549/data/training_image_new/L1_3-both/'\n",
    "src_t ='S:/CS549/data/test_image_new/L1_3-both_test/'\n",
    "\n",
    "\n",
    "files = os.listdir(src)\n",
    "for i in range(len(files)):\n",
    "    filename = \"train_L1_both_\" +str(i) + \".png\"\n",
    "    os.rename(os.path.join(src, files[i]), os.path.join(src, filename))\n",
    "files_t = os.listdir(src_t)\n",
    "for i in range(len(files_t)):\n",
    "    filename_t = \"test_L1_both_\" +str(i) + \".png\"\n",
    "    os.rename(os.path.join(src_t, files_t[i]), os.path.join(src_t, filename_t))\n",
    "print(len(files))\n",
    "\n"
   ]
  },
  {
   "cell_type": "code",
   "execution_count": null,
   "metadata": {},
   "outputs": [],
   "source": [
    "\n"
   ]
  }
 ],
 "metadata": {
  "kernelspec": {
   "display_name": "Python 3",
   "language": "python",
   "name": "python3"
  },
  "language_info": {
   "codemirror_mode": {
    "name": "ipython",
    "version": 3
   },
   "file_extension": ".py",
   "mimetype": "text/x-python",
   "name": "python",
   "nbconvert_exporter": "python",
   "pygments_lexer": "ipython3",
   "version": "3.7.1"
  }
 },
 "nbformat": 4,
 "nbformat_minor": 2
}
