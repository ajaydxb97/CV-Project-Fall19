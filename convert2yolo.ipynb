{
 "cells": [
  {
   "cell_type": "code",
   "execution_count": 6,
   "metadata": {},
   "outputs": [],
   "source": [
    "import os\n"
   ]
  },
  {
   "cell_type": "code",
   "execution_count": 25,
   "metadata": {},
   "outputs": [
    {
     "name": "stdout",
     "output_type": "stream",
     "text": [
      "['/media/kktarabein/ESD-USB/Karim/L2yoyoOcclude/10.png', '1', '137', '79', '29', '24']\n",
      "10\n"
     ]
    }
   ],
   "source": [
    "anot ='S:/CS549/data/training_image_organized/anot/a/'\n",
    "anot_files = os.listdir(anot)\n",
    "name = os.path.join(anot, anot_files[1])\n",
    "with open(name) as f:\n",
    "    content = f.read().splitlines()\n",
    "    head = content[0].split()[0].split(\"/\")\n",
    "    fn = head[-1].split(\".\")[0]\n",
    "print(content[0].split())\n",
    "print(fn)"
   ]
  },
  {
   "cell_type": "code",
   "execution_count": 26,
   "metadata": {},
   "outputs": [],
   "source": [
    "yolo = 'S:/CS549/data/training_image_organized/anot/L2yoyoOcclude/'\n",
    "for i in range(0, len(content)):\n",
    "    head = content[i].split()[0].split(\"/\") \n",
    "    fn = head[-1].split(\".\")[0]\n",
    "    ffn = fn + \".xml\"\n",
    "    completeName = os.path.join(yolo, ffn)\n",
    "    l = len(content[i].split())\n",
    "    if (l >4):\n",
    "        tofile1 = \"<annotation>\\n\" + \"        <folder>folername</folder>\\n\" + \"        <filename>\" + fn+ \".png</filename>\\n\" + \"        <source>\\n\"+\"                <database>collected</database>\\n\"+\"        </source>\\n\"\n",
    "        tofile2 = \"        <size>\\n\" + \"                <width>320</width>\\n\" + \"                <height>240</height>\\n\" + \"                <depth>3</depth>\\n\" + \"        </size>\\n\"\n",
    "        tofile3 = \"        <segmented>0</segmented>\\n\" + \"        <object>\\n\" + \"                <name>21</name>\\n\" + \"                <pose>Frontal</pose>\\n\" + \"                <truncated>0</truncated>\\n\"\n",
    "        tofile4 = \"        <difficult>0</difficult>\\n\" + \"        <occluded>0</occluded>\\n\" + \"                <bndbox>\\n\" + \"                        <xmin>\"+ str(int(content[i].split()[2])) +\"</xmin>\\n\"\n",
    "        tofile5 = \"                        <xmax>\"+ str(int(content[i].split()[2]) + int(content[i].split()[4])) +\"</xmax>\\n\" + \"                        <ymin>\" + str(int(content[i].split()[3])) + \"</ymin>\\n\" + \"                        <ymax>\"+ str(int(content[i].split()[3]) + int(content[i].split()[5])) +\"</ymax>\\n\" + \"                </bndbox>\\n\" + \"        </object>\\n\" + \"</annotation>\"\n",
    "        tofile =  tofile1 + tofile2 + tofile3 + tofile4 + tofile5\n",
    "        file1 = open(completeName, \"w\")\n",
    "        file1.write(tofile) \n",
    "        file1.close()\n",
    "    \n",
    "   "
   ]
  },
  {
   "cell_type": "code",
   "execution_count": null,
   "metadata": {},
   "outputs": [],
   "source": [
    " file1.write(toFile) \n",
    "    file1.close()\n",
    "    file1 = open(completeName, \"w\")\n",
    "    \"2 \" + str(float(content[i].split()[2])/320) + \" \" + str(float(content[i].split()[3])/240) + \" \" + str(float(content[i].split()[4])/320) + \" \" + str(float(content[i].split()[5])/240) \n",
    "    tofile = str(float(content[i].split()[2]/320.0)) + str(float(content[i].split()[3]/240)) + \" \" + str(float(content[i].split()[4]/320)) + \" \" + str(float(content[i].split()[5]/240)) "
   ]
  },
  {
   "cell_type": "code",
   "execution_count": 16,
   "metadata": {},
   "outputs": [
    {
     "name": "stdout",
     "output_type": "stream",
     "text": [
      "['/media/kktarabein/ESD-USB/Karim/L2BallOcclude/10.png', '1', '123', '112', '28', '37']\n"
     ]
    }
   ],
   "source": [
    "print(content[0].split())"
   ]
  },
  {
   "cell_type": "code",
   "execution_count": 22,
   "metadata": {},
   "outputs": [
    {
     "name": "stdout",
     "output_type": "stream",
     "text": [
      "10\n"
     ]
    }
   ],
   "source": [
    "print(fn)"
   ]
  },
  {
   "cell_type": "code",
   "execution_count": null,
   "metadata": {},
   "outputs": [],
   "source": []
  }
 ],
 "metadata": {
  "kernelspec": {
   "display_name": "Python 3",
   "language": "python",
   "name": "python3"
  },
  "language_info": {
   "codemirror_mode": {
    "name": "ipython",
    "version": 3
   },
   "file_extension": ".py",
   "mimetype": "text/x-python",
   "name": "python",
   "nbconvert_exporter": "python",
   "pygments_lexer": "ipython3",
   "version": "3.7.1"
  }
 },
 "nbformat": 4,
 "nbformat_minor": 2
}
