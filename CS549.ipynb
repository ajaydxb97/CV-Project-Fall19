{
 "cells": [
  {
   "cell_type": "code",
   "execution_count": 1,
   "metadata": {},
   "outputs": [],
   "source": [
    "from sklearn import svm\n",
    "import cv2\n",
    "import numpy as np\n",
    "import math\n",
    "from sklearn.svm import SVC\n",
    "import os\n",
    "import random\n",
    "import shutil\n",
    "import math\n",
    "import pickle\n",
    "import csv\n",
    "import sys"
   ]
  },
  {
   "cell_type": "code",
   "execution_count": 5,
   "metadata": {},
   "outputs": [],
   "source": [
    "img = cv2.imread('success.jpg')\n",
    "\n",
    "winSize = (320,240)\n",
    "blockSize = (160,160)\n",
    "blockStride = (80,80)\n",
    "cellSize = (80,80)\n",
    "nbins = 9\n",
    "derivAperture = 1\n",
    "winSigma = -1.\n",
    "histogramNormType = 0\n",
    "L2HysThreshold = 0.2\n",
    "gammaCorrection = 1\n",
    "nlevels = 64\n",
    "signedGradients = True\n",
    " \n",
    "hog = cv2.HOGDescriptor(winSize,blockSize,blockStride,cellSize,nbins,derivAperture,winSigma,histogramNormType,L2HysThreshold,gammaCorrection,nlevels, signedGradients)\n",
    "svclassifier = SVC(kernel='linear', decision_function_shape='ovo')\n",
    "\n",
    "\n",
    "cv2.imshow(\"obj\", img)\n",
    "cv2.waitKey(0)         \n",
    "cv2.destroyAllWindows() "
   ]
  },
  {
   "cell_type": "code",
   "execution_count": 29,
   "metadata": {},
   "outputs": [
    {
     "name": "stderr",
     "output_type": "stream",
     "text": [
      "C:\\Users\\Kalen\\Anaconda3\\lib\\site-packages\\sklearn\\svm\\base.py:193: FutureWarning: The default value of gamma will change from 'auto' to 'scale' in version 0.22 to account better for unscaled features. Set gamma explicitly to 'auto' or 'scale' to avoid this warning.\n",
      "  \"avoid this warning.\", FutureWarning)\n"
     ]
    },
    {
     "data": {
      "text/plain": [
       "SVC(C=1.0, cache_size=200, class_weight=None, coef0=0.0,\n",
       "    decision_function_shape='ovo', degree=3, gamma='auto_deprecated',\n",
       "    kernel='rbf', max_iter=-1, probability=False, random_state=None,\n",
       "    shrinking=True, tol=0.001, verbose=False)"
      ]
     },
     "execution_count": 29,
     "metadata": {},
     "output_type": "execute_result"
    }
   ],
   "source": [
    "svm = SVC(decision_function_shape='ovo')\n",
    "svm.fit(data, labels)"
   ]
  },
  {
   "cell_type": "code",
   "execution_count": null,
   "metadata": {},
   "outputs": [],
   "source": [
    "data = []\n",
    "labels = []\n",
    "\n",
    "ball ='S:/CS549/data/training_image_organized/8ball/'\n",
    "yoyo ='S:/CS549/data/training_image_organized/yoyo/'\n",
    "both ='S:/CS549/data/training_image_organized/both/'\n",
    "neg ='S:/CS549/data/training_image_organized/neg/'\n",
    "\n",
    "ball_files = os.listdir(ball)\n",
    "for i in range(len(ball_files)):\n",
    "    img_path = os.path.join(ball, ball_files[i])\n",
    "    ball_img = cv2.imread(img_path, 0)\n",
    "    descriptor = hog.compute(ball_img)\n",
    "    data.append(descriptor[:,0])\n",
    "    labels.append(0)\n",
    "    \n",
    "cv2.imshow(\"1\", img)\n",
    "    \n",
    "yoyo_files = os.listdir(yoyo)\n",
    "for i in range(len(yoyo_files)):\n",
    "    img_path = os.path.join(yoyo, yoyo_files[i])\n",
    "    yoyo_img = cv2.imread(img_path, 0)\n",
    "    descriptor = hog.compute(yoyo_img)\n",
    "    data.append(descriptor[:,0])\n",
    "    labels.append(1)\n",
    "\n",
    "cv2.imshow(\"2\", img)\n",
    "    \n",
    "both_files = os.listdir(both)\n",
    "for i in range(len(both_files)):\n",
    "    img_path = os.path.join(both, both_files[i])\n",
    "    both_img = cv2.imread(img_path, 0)\n",
    "    descriptor = hog.compute(both_img)\n",
    "    data.append(descriptor[:,0])\n",
    "    labels.append(2)\n",
    "    \n",
    "cv2.imshow(\"3\", img)\n",
    "    \n",
    "neg_files = os.listdir(neg)\n",
    "for i in range(len(neg_files)):\n",
    "    img_path = os.path.join(neg, neg_files[i])\n",
    "    neg_img = cv2.imread(img_path, 0)\n",
    "    descriptor = hog.compute(neg_img)\n",
    "    data.append(descriptor[:,0])\n",
    "    labels.append(-1)\n",
    "\n",
    "cv2.imshow(\"yeah\", img)\n",
    "cv2.waitKey(0)         \n",
    "cv2.destroyAllWindows() "
   ]
  },
  {
   "cell_type": "code",
   "execution_count": 30,
   "metadata": {},
   "outputs": [
    {
     "name": "stdout",
     "output_type": "stream",
     "text": [
      "Both\n",
      "Both\n",
      "Both\n",
      "Both\n",
      "Both\n",
      "8 Ball\n",
      "Both\n",
      "Both\n",
      "Both\n",
      "8 Ball\n",
      "Yoyo\n",
      "Both\n",
      "8 Ball\n",
      "8 Ball\n",
      "8 Ball\n",
      "Yoyo\n",
      "Yoyo\n",
      "Yoyo\n",
      "8 Ball\n",
      "Yoyo\n",
      "Both\n",
      "Yoyo\n",
      "Yoyo\n",
      "Yoyo\n",
      "Yoyo\n",
      "8 Ball\n",
      "8 Ball\n",
      "8 Ball\n",
      "8 Ball\n",
      "8 Ball\n",
      "8 Ball\n",
      "8 Ball\n",
      "8 Ball\n",
      "8 Ball\n",
      "Yoyo\n",
      "Yoyo\n",
      "Yoyo\n",
      "Yoyo\n",
      "8 Ball\n",
      "8 Ball\n",
      "8 Ball\n",
      "8 Ball\n",
      "8 Ball\n",
      "8 Ball\n",
      "Yoyo\n",
      "Yoyo\n",
      "--- 0.8859133720397949 seconds ---\n"
     ]
    }
   ],
   "source": [
    "import time\n",
    "test ='S:/CS549/data/training_image_organized/try/test/'\n",
    "test_data = []\n",
    "test_files = os.listdir(test)\n",
    "start_time = time.time()\n",
    "for i in range(len(test_files)):\n",
    "    img_path = os.path.join(test, test_files[i])\n",
    "    t_img = cv2.imread(img_path, 0)\n",
    "    descriptor = hog.compute(t_img)\n",
    "    test_data.append(descriptor[:,0])\n",
    "ft = 'S:/CS549/data/training_image_organized/try/bookshelf.png'\n",
    "img = cv2.imread(ft, 0)\n",
    "t_img = cv2.resize(img, (320,240)) \n",
    "descriptor = hog.compute(t_img)\n",
    "test_data.append(descriptor[:,0])\n",
    "    \n",
    "t = np.array(test_data)\n",
    "r = svm.predict(t)\n",
    "for i in range(len(r)):\n",
    "    if (r[i] == 0):\n",
    "        print(\"8 Ball\")\n",
    "    elif (r[i] == 1):\n",
    "        print(\"Yoyo\")\n",
    "    elif (r[i] == 2):\n",
    "        print(\"Both\")\n",
    "    else:\n",
    "        print(\"None\")\n",
    "\n",
    "print(\"--- %s seconds ---\" % (time.time() - start_time))"
   ]
  },
  {
   "cell_type": "code",
   "execution_count": null,
   "metadata": {},
   "outputs": [],
   "source": [
    "r = svm.predict(test_data)\n",
    "for i in range(len(r)):\n",
    "    if (r[i] == 0):\n",
    "        print(\"8 Ball\")\n",
    "    elif (r[i] == 1):\n",
    "        print(\"Yoyo\")\n",
    "    elif (r[i] == 2):\n",
    "        print(\"Both\")\n",
    "    else:\n",
    "        print(\"None\")"
   ]
  },
  {
   "cell_type": "code",
   "execution_count": null,
   "metadata": {},
   "outputs": [],
   "source": [
    "pkl_filename = \"hog_linear_SVM.pkl\"\n",
    "with open(pkl_filename, 'wb') as file:\n",
    "    pickle.dump(svclassifier, file)"
   ]
  },
  {
   "cell_type": "code",
   "execution_count": 21,
   "metadata": {},
   "outputs": [],
   "source": [
    "pkl_filename = \"hog_linear_SVM.pkl\"\n",
    "with open(pkl_filename, 'rb') as file:\n",
    "    svm = pickle.load(file)"
   ]
  },
  {
   "cell_type": "code",
   "execution_count": null,
   "metadata": {},
   "outputs": [],
   "source": [
    "results = pickle_model.predict(test_data)\n",
    "print(results)"
   ]
  },
  {
   "cell_type": "code",
   "execution_count": null,
   "metadata": {},
   "outputs": [],
   "source": [
    "data_file = \"new_train_data\"\n",
    "np.save(data_file, new)"
   ]
  },
  {
   "cell_type": "code",
   "execution_count": null,
   "metadata": {},
   "outputs": [],
   "source": [
    "t = np.array(test_data)\n",
    "new = np.array(data)"
   ]
  },
  {
   "cell_type": "code",
   "execution_count": 18,
   "metadata": {},
   "outputs": [
    {
     "name": "stdout",
     "output_type": "stream",
     "text": [
      "(9064, 216)\n"
     ]
    }
   ],
   "source": [
    "print(data.shape)"
   ]
  },
  {
   "cell_type": "code",
   "execution_count": null,
   "metadata": {},
   "outputs": [],
   "source": [
    "print(t.shape)"
   ]
  },
  {
   "cell_type": "code",
   "execution_count": null,
   "metadata": {},
   "outputs": [],
   "source": [
    "final_data = []\n",
    "f_test = cv2.imread(\"bookshelf.png\", 0)\n",
    "final_test = cv2.resize(f_test, (320, 240))\n",
    "descriptor = hog.compute(final_test)\n",
    "\n",
    "final_data.append(descriptor[:,0])\n",
    "f = np.array(final_data)\n",
    "final = svm.predict(f)\n",
    "print(final)\n",
    "\n",
    "cv2.imshow(\"yeah\", final_test)\n",
    "cv2.waitKey(0)         \n",
    "cv2.destroyAllWindows() \n"
   ]
  },
  {
   "cell_type": "code",
   "execution_count": null,
   "metadata": {},
   "outputs": [],
   "source": [
    "b_data = []\n",
    "ball_files = os.listdir(ball)\n",
    "for i in range(len(ball_files)):\n",
    "    img_path = os.path.join(ball, ball_files[i])\n",
    "    ball_img = cv2.imread(img_path, 0)\n",
    "    descriptor = hog.compute(ball_img)\n",
    "    b_data.append(descriptor[:,0])\n",
    "ball_data = np.array(b_data)\n",
    "rb = svm.predict(ball_data)\n",
    "\n",
    "for i in range(len(rb)):\n",
    "    if not (rb[i] == 0):\n",
    "        ball_fa.append(i)"
   ]
  },
  {
   "cell_type": "code",
   "execution_count": null,
   "metadata": {},
   "outputs": [],
   "source": [
    "ball_fa = []\n",
    "for i in range(len(rb)):\n",
    "    if not (rb[i] == 0):\n",
    "        ball_fa.append(i)"
   ]
  },
  {
   "cell_type": "code",
   "execution_count": 23,
   "metadata": {},
   "outputs": [],
   "source": [
    "data_file = \"new_train_data.npy\"\n",
    "data = np.load(data_file)"
   ]
  },
  {
   "cell_type": "code",
   "execution_count": null,
   "metadata": {},
   "outputs": [],
   "source": [
    "print(data.shape)"
   ]
  },
  {
   "cell_type": "code",
   "execution_count": null,
   "metadata": {},
   "outputs": [],
   "source": [
    "np.savetxt(\"raw_hog.csv\", data, delimiter=\",\")"
   ]
  },
  {
   "cell_type": "code",
   "execution_count": 6,
   "metadata": {},
   "outputs": [],
   "source": [
    "labels = []\n",
    "\n",
    "ball ='S:/CS549/data/training_image_organized/8ball/'\n",
    "yoyo ='S:/CS549/data/training_image_organized/yoyo/'\n",
    "both ='S:/CS549/data/training_image_organized/both/'\n",
    "neg ='S:/CS549/data/training_image_organized/neg/'\n",
    "\n",
    "ball_files = os.listdir(ball)\n",
    "for i in range(len(ball_files)):\n",
    "    labels.append(0)\n",
    "    \n",
    "    \n",
    "yoyo_files = os.listdir(yoyo)\n",
    "for i in range(len(yoyo_files)):\n",
    "    labels.append(1)\n",
    "\n",
    "    \n",
    "both_files = os.listdir(both)\n",
    "for i in range(len(both_files)):\n",
    "    labels.append(2)\n",
    "    \n",
    "neg_files = os.listdir(neg)\n",
    "for i in range(len(neg_files)):\n",
    "    labels.append(-1)"
   ]
  },
  {
   "cell_type": "code",
   "execution_count": null,
   "metadata": {},
   "outputs": [],
   "source": [
    "np.savetxt(\"labels.csv\", labels, delimiter=\",\")"
   ]
  },
  {
   "cell_type": "code",
   "execution_count": null,
   "metadata": {},
   "outputs": [],
   "source": [
    "test_data = []\n",
    "test_labels = []\n",
    "\n",
    "ball ='S:/CS549/data/test_image_organized/8ball/'\n",
    "yoyo ='S:/CS549/data/test_image_organized/yoyo/'\n",
    "yoyot ='S:/CS549/data/test_image_organized/yoyo/'\n",
    "both ='S:/CS549/data/test_image_organized/both/'\n",
    "neg ='S:/CS549/data/test_image_organized/neg/'\n",
    "\n",
    "ball_files = os.listdir(ball)\n",
    "for i in range(len(ball_files)):\n",
    "    img_path = os.path.join(ball, ball_files[i])\n",
    "    ball_img = cv2.imread(img_path, 0)\n",
    "    descriptor = hog.compute(ball_img)\n",
    "    test_data.append(descriptor[:,0])\n",
    "    test_labels.append(0)\n",
    "    sys.stdout.write(\"\\b%s\" % img_path)\n",
    "    sys.stdout.flush()\n",
    "    \n",
    "yoyo_files = os.listdir(yoyo)\n",
    "for i in range(len(yoyo_files)):\n",
    "    img_path = os.path.join(yoyo, yoyo_files[i])\n",
    "    sys.stdout.write(\"\\b%s\" % img_path)\n",
    "    sys.stdout.flush()\n",
    "    yoyo_img = cv2.imread(img_path, 0)\n",
    "    descriptor = hog.compute(yoyo_img)\n",
    "    test_data.append(descriptor[:,0])\n",
    "    test_labels.append(1)\n",
    "    \n",
    "yoyo_files = os.listdir(yoyot)\n",
    "for i in range(len(yoyo_files)):\n",
    "    img_path = os.path.join(yoyo, yoyo_files[i])\n",
    "    sys.stdout.write(\"\\b%s\" % img_path)\n",
    "    sys.stdout.flush()\n",
    "    yoyo_img = cv2.imread(img_path, 0)\n",
    "    descriptor = hog.compute(yoyo_img)\n",
    "    test_data.append(descriptor[:,0])\n",
    "    test_labels.append(1)\n",
    "\n",
    "    \n",
    "both_files = os.listdir(both)\n",
    "for i in range(len(both_files)):\n",
    "    img_path = os.path.join(both, both_files[i])\n",
    "    both_img = cv2.imread(img_path, 0)\n",
    "    descriptor = hog.compute(both_img)\n",
    "    test_data.append(descriptor[:,0])\n",
    "    test_labels.append(2)\n",
    "    sys.stdout.write(\"\\b%s\" % img_path)\n",
    "    sys.stdout.flush()\n",
    "    \n",
    "\n",
    "    \n",
    "neg_files = os.listdir(neg)\n",
    "for i in range(len(neg_files)):\n",
    "    img_path = os.path.join(neg, neg_files[i])\n",
    "    neg_img = cv2.imread(img_path, 0)\n",
    "    descriptor = hog.compute(neg_img)\n",
    "    test_data.append(descriptor[:,0])\n",
    "    test_labels.append(-1)\n",
    "    sys.stdout.write(\"\\b%s\" % img_path)\n",
    "    sys.stdout.flush()\n"
   ]
  },
  {
   "cell_type": "code",
   "execution_count": null,
   "metadata": {},
   "outputs": [],
   "source": [
    "sys.stdout.write(img_path)\n",
    "sys.stdout.flush()"
   ]
  },
  {
   "cell_type": "code",
   "execution_count": null,
   "metadata": {},
   "outputs": [],
   "source": [
    "np.savetxt(\"test.csv\", test_data, delimiter=\",\")\n",
    "np.savetxt(\"test_label.csv\", test_labels, delimiter=\",\")"
   ]
  },
  {
   "cell_type": "code",
   "execution_count": 17,
   "metadata": {},
   "outputs": [
    {
     "name": "stdout",
     "output_type": "stream",
     "text": [
      "[0 0 0 0 0 0 0 0 0 0 0 0 0 0 0 0 0 0 0 0 0 0 0 0 0 0 0 0 0 0 0 0 0 0 0 0 0\n",
      " 0 0 0 0 0 0 0 0 0]\n"
     ]
    }
   ],
   "source": [
    "print(r)"
   ]
  },
  {
   "cell_type": "code",
   "execution_count": 27,
   "metadata": {},
   "outputs": [],
   "source": [
    "np.savetxt(\"test_example.csv\", test_data, delimiter=\",\")"
   ]
  },
  {
   "cell_type": "code",
   "execution_count": 32,
   "metadata": {},
   "outputs": [],
   "source": [
    "l = 222222222000000-1-1-1-1-1-1-1-1-1-1-1-1-1-100000111111000002\n"
   ]
  },
  {
   "cell_type": "code",
   "execution_count": 36,
   "metadata": {},
   "outputs": [
    {
     "name": "stdout",
     "output_type": "stream",
     "text": [
      "['Both', 'Both', 'Both', 'Both', 'Both', 'Both', 'Both', 'Both', 'Both', '8 Ball', '8 Ball', '8 Ball', '8 Ball', '8 Ball', '8 Ball', 'None', 'None', 'None', 'None', 'None', 'None', 'None', 'None', 'None', 'None', 'None', 'None', 'None', 'None', '8 Ball', '8 Ball', '8 Ball', '8 Ball', '8 Ball', 'Yoyo', 'Yoyo', 'Yoyo', 'Yoyo', 'Yoyo', 'Yoyo', '8 Ball', '8 Ball', '8 Ball', '8 Ball', '8 Ball', 'Both']\n"
     ]
    }
   ],
   "source": [
    "res = []\n",
    "for i in range(9):\n",
    "    res.append(\"Both\")\n",
    "for i in range(6):\n",
    "    res.append(\"8 Ball\")\n",
    "for i in range(14):\n",
    "    res.append(\"None\")\n",
    "for i in range(5):\n",
    "    res.append(\"8 Ball\")\n",
    "for i in range(6):\n",
    "    res.append(\"Yoyo\")\n",
    "for i in range(5):\n",
    "    res.append(\"8 Ball\")\n",
    "res.append(\"Both\")\n",
    "print(res)"
   ]
  },
  {
   "cell_type": "code",
   "execution_count": 6,
   "metadata": {},
   "outputs": [],
   "source": [
    "f_test = cv2.imread(\"bookshelf.png\", 0)\n",
    "cv2.rectangle(f_test,(320,160),(640,480),(0,255,0),3)\n",
    "cv2.imshow(\"yeah\", f_test)\n",
    "cv2.waitKey(0)         \n",
    "cv2.destroyAllWindows() "
   ]
  },
  {
   "cell_type": "code",
   "execution_count": 7,
   "metadata": {},
   "outputs": [],
   "source": [
    "import time\n",
    "test ='S:/CS549/data/training_image_organized/try/test/'\n",
    "test_data = []\n",
    "test_files = os.listdir(test)\n",
    "start_time = time.time()\n",
    "for i in range(len(test_files)):\n",
    "    img_path = os.path.join(test, test_files[i])\n",
    "    t_img = cv2.imread(img_path, 0)\n",
    "cv2.rectangle(t_img,(0,0),(160,160),(255,255,255),3)\n",
    "cv2.rectangle(t_img,(0,80),(160,240),(255,255,255),3)\n",
    "cv2.rectangle(t_img,(80,0),(240,160),(255,255,255),3)\n",
    "cv2.rectangle(t_img,(80,80),(240,240),(255,255,255),3)\n",
    "cv2.rectangle(t_img,(160,80),(320,240),(255,255,255),3)\n",
    "cv2.rectangle(t_img,(160,0),(320,160),(255,255,255),3)\n",
    "cv2.imshow(\"yeah\", t_img)\n",
    "\n",
    "cv2.waitKey(0)         \n",
    "cv2.destroyAllWindows() "
   ]
  },
  {
   "cell_type": "code",
   "execution_count": null,
   "metadata": {},
   "outputs": [],
   "source": []
  }
 ],
 "metadata": {
  "kernelspec": {
   "display_name": "Python 3",
   "language": "python",
   "name": "python3"
  },
  "language_info": {
   "codemirror_mode": {
    "name": "ipython",
    "version": 3
   },
   "file_extension": ".py",
   "mimetype": "text/x-python",
   "name": "python",
   "nbconvert_exporter": "python",
   "pygments_lexer": "ipython3",
   "version": "3.7.1"
  }
 },
 "nbformat": 4,
 "nbformat_minor": 2
}
